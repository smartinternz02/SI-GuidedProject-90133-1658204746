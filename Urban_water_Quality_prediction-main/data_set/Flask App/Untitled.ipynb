{
 "cells": [
  {
   "cell_type": "code",
   "execution_count": 1,
   "id": "ad8f7aef",
   "metadata": {},
   "outputs": [
    {
     "name": "stdout",
     "output_type": "stream",
     "text": [
      " * Serving Flask app \"__main__\" (lazy loading)\n",
      " * Environment: production\n",
      "\u001b[31m   WARNING: This is a development server. Do not use it in a production deployment.\u001b[0m\n",
      "\u001b[2m   Use a production WSGI server instead.\u001b[0m\n",
      " * Debug mode: on\n"
     ]
    },
    {
     "name": "stderr",
     "output_type": "stream",
     "text": [
      "C:\\Users\\SAISURYA.D\\anaconda3\\lib\\site-packages\\sklearn\\base.py:310: UserWarning: Trying to unpickle estimator DecisionTreeRegressor from version 0.22.1 when using version 0.24.2. This might lead to breaking code or invalid results. Use at your own risk.\n",
      "  warnings.warn(\n",
      "C:\\Users\\SAISURYA.D\\anaconda3\\lib\\site-packages\\sklearn\\base.py:310: UserWarning: Trying to unpickle estimator RandomForestRegressor from version 0.22.1 when using version 0.24.2. This might lead to breaking code or invalid results. Use at your own risk.\n",
      "  warnings.warn(\n",
      " * Restarting with watchdog (windowsapi)\n"
     ]
    },
    {
     "ename": "SystemExit",
     "evalue": "1",
     "output_type": "error",
     "traceback": [
      "An exception has occurred, use %tb to see the full traceback.\n",
      "\u001b[1;31mSystemExit\u001b[0m\u001b[1;31m:\u001b[0m 1\n"
     ]
    },
    {
     "name": "stderr",
     "output_type": "stream",
     "text": [
      "C:\\Users\\SAISURYA.D\\anaconda3\\lib\\site-packages\\IPython\\core\\interactiveshell.py:3452: UserWarning: To exit: use 'exit', 'quit', or Ctrl-D.\n",
      "  warn(\"To exit: use 'exit', 'quit', or Ctrl-D.\", stacklevel=1)\n"
     ]
    }
   ],
   "source": [
    "import numpy as np\n",
    "from flask import Flask,render_template,request\n",
    "import pickle\n",
    "\n",
    "\n",
    "app = Flask(__name__)\n",
    "model = pickle.load(open('wqi.pkl','rb'))\n",
    "\n",
    "@app.route('/')\n",
    "def home() :\n",
    "    return render_template(\"web.html\")\n",
    "\n",
    "@app.route('/login',methods = ['POST'])\n",
    "def login() :\n",
    "    year = request.form[\"year\"]\n",
    "    do = request.form[\"do\"]\n",
    "    ph = request.form[\"ph\"]\n",
    "    co = request.form[\"co\"]\n",
    "    bod = request.form[\"bod\"]\n",
    "    na = request.form[\"na\"]\n",
    "    tc = request.form[\"tc\"]\n",
    "    total = [[int(year),float(do),float(ph),float(co),float(bod),float(na),float(tc)]]\n",
    "    y_pred = model.predict(total)\n",
    "    print(y_pred)\n",
    "    y_pred =y_pred[[0]]\n",
    "    if(y_pred >= 95 and y_pred <= 100) :\n",
    "        return render_template(\"web.html\",showcase = 'Excellent,The predicted value is '+ str(y_pred))\n",
    "    elif(y_pred >= 89 and y_pred <= 94) :\n",
    "        return render_template(\"web.html\",showcase = 'Very good,The predicted value is '+str(y_pred))\n",
    "    elif(y_pred >= 80 and y_pred <= 88) :\n",
    "        return render_template(\"web.html\",showcase = 'Good,The predicted value is'+str(y_pred))\n",
    "    elif(y_pred >= 65 and y_pred <= 79) :\n",
    "        return render_template(\"web.html\",showcase = 'Fair,The predicted value is '+str(y_pred))\n",
    "    elif(y_pred >= 45 and y_pred <= 64) :\n",
    "        return render_template(\"web.html\",showcase = 'Marginal,The predicted value is '+str(y_pred))\n",
    "    else :\n",
    "        return render_template(\"web.html\",showcase = 'Poor,The predicted value is '+str(y_pred))\n",
    "    \n",
    "    \n",
    "if __name__ == '__main__' :\n",
    "    app.run(debug = True,port=5000)\n"
   ]
  },
  {
   "cell_type": "code",
   "execution_count": null,
   "id": "97f05634",
   "metadata": {},
   "outputs": [],
   "source": []
  }
 ],
 "metadata": {
  "kernelspec": {
   "display_name": "Python 3 (ipykernel)",
   "language": "python",
   "name": "python3"
  },
  "language_info": {
   "codemirror_mode": {
    "name": "ipython",
    "version": 3
   },
   "file_extension": ".py",
   "mimetype": "text/x-python",
   "name": "python",
   "nbconvert_exporter": "python",
   "pygments_lexer": "ipython3",
   "version": "3.9.7"
  }
 },
 "nbformat": 4,
 "nbformat_minor": 5
}
